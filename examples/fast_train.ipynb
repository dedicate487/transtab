{
 "cells": [
  {
   "cell_type": "code",
   "execution_count": 2,
   "id": "0bc8ef17",
   "metadata": {},
   "outputs": [],
   "source": [
    "import os\n",
    "os.chdir('../')\n",
    "\n",
    "import transtab\n",
    "\n",
    "# set random seed\n",
    "transtab.random_seed(42)"
   ]
  },
  {
   "cell_type": "code",
   "execution_count": 3,
   "id": "e06b2eb3",
   "metadata": {},
   "outputs": [
    {
     "name": "stdout",
     "output_type": "stream",
     "text": [
      "########################################\n"
     ]
    },
    {
     "name": "stderr",
     "output_type": "stream",
     "text": [
      "/root/anaconda3/envs/transtab/lib/python3.9/site-packages/transtab/dataset.py:159: FutureWarning: Starting from Version 0.15 `download_data`, `download_qualities`, and `download_features_meta_data` will all be ``False`` instead of ``True`` by default to enable lazy loading. To disable this message until version 0.15 explicitly set `download_data`, `download_qualities`, and `download_features_meta_data` to a bool while calling `get_dataset`.\n",
      "  dataset = openml.datasets.get_dataset(dataname)\n"
     ]
    },
    {
     "name": "stdout",
     "output_type": "stream",
     "text": [
      "openml data index: 31\n",
      "load data from credit-g\n",
      "# data: 1000, # feat: 20, # cate: 11,  # bin: 2, # numerical: 7, pos rate: 0.70\n"
     ]
    },
    {
     "name": "stderr",
     "output_type": "stream",
     "text": [
      "/root/anaconda3/envs/transtab/lib/python3.9/site-packages/transtab/dataset.py:192: FutureWarning: A value is trying to be set on a copy of a DataFrame or Series through chained assignment using an inplace method.\n",
      "The behavior will change in pandas 3.0. This inplace method will never work because the intermediate object on which we are setting values always behaves as a copy.\n",
      "\n",
      "For example, when doing 'df[col].method(value, inplace=True)', try using 'df.method({col: value}, inplace=True)' or df[col] = df[col].method(value) instead, to perform the operation inplace on the original object.\n",
      "\n",
      "\n",
      "  for col in num_cols: X[col].fillna(X[col].mode()[0], inplace=True)\n",
      "/root/anaconda3/envs/transtab/lib/python3.9/site-packages/transtab/dataset.py:192: FutureWarning: A value is trying to be set on a copy of a DataFrame or Series through chained assignment using an inplace method.\n",
      "The behavior will change in pandas 3.0. This inplace method will never work because the intermediate object on which we are setting values always behaves as a copy.\n",
      "\n",
      "For example, when doing 'df[col].method(value, inplace=True)', try using 'df.method({col: value}, inplace=True)' or df[col] = df[col].method(value) instead, to perform the operation inplace on the original object.\n",
      "\n",
      "\n",
      "  for col in num_cols: X[col].fillna(X[col].mode()[0], inplace=True)\n",
      "/root/anaconda3/envs/transtab/lib/python3.9/site-packages/transtab/dataset.py:192: FutureWarning: A value is trying to be set on a copy of a DataFrame or Series through chained assignment using an inplace method.\n",
      "The behavior will change in pandas 3.0. This inplace method will never work because the intermediate object on which we are setting values always behaves as a copy.\n",
      "\n",
      "For example, when doing 'df[col].method(value, inplace=True)', try using 'df.method({col: value}, inplace=True)' or df[col] = df[col].method(value) instead, to perform the operation inplace on the original object.\n",
      "\n",
      "\n",
      "  for col in num_cols: X[col].fillna(X[col].mode()[0], inplace=True)\n",
      "/root/anaconda3/envs/transtab/lib/python3.9/site-packages/transtab/dataset.py:192: FutureWarning: A value is trying to be set on a copy of a DataFrame or Series through chained assignment using an inplace method.\n",
      "The behavior will change in pandas 3.0. This inplace method will never work because the intermediate object on which we are setting values always behaves as a copy.\n",
      "\n",
      "For example, when doing 'df[col].method(value, inplace=True)', try using 'df.method({col: value}, inplace=True)' or df[col] = df[col].method(value) instead, to perform the operation inplace on the original object.\n",
      "\n",
      "\n",
      "  for col in num_cols: X[col].fillna(X[col].mode()[0], inplace=True)\n",
      "/root/anaconda3/envs/transtab/lib/python3.9/site-packages/transtab/dataset.py:192: FutureWarning: A value is trying to be set on a copy of a DataFrame or Series through chained assignment using an inplace method.\n",
      "The behavior will change in pandas 3.0. This inplace method will never work because the intermediate object on which we are setting values always behaves as a copy.\n",
      "\n",
      "For example, when doing 'df[col].method(value, inplace=True)', try using 'df.method({col: value}, inplace=True)' or df[col] = df[col].method(value) instead, to perform the operation inplace on the original object.\n",
      "\n",
      "\n",
      "  for col in num_cols: X[col].fillna(X[col].mode()[0], inplace=True)\n",
      "/root/anaconda3/envs/transtab/lib/python3.9/site-packages/transtab/dataset.py:192: FutureWarning: A value is trying to be set on a copy of a DataFrame or Series through chained assignment using an inplace method.\n",
      "The behavior will change in pandas 3.0. This inplace method will never work because the intermediate object on which we are setting values always behaves as a copy.\n",
      "\n",
      "For example, when doing 'df[col].method(value, inplace=True)', try using 'df.method({col: value}, inplace=True)' or df[col] = df[col].method(value) instead, to perform the operation inplace on the original object.\n",
      "\n",
      "\n",
      "  for col in num_cols: X[col].fillna(X[col].mode()[0], inplace=True)\n",
      "/root/anaconda3/envs/transtab/lib/python3.9/site-packages/transtab/dataset.py:196: FutureWarning: A value is trying to be set on a copy of a DataFrame or Series through chained assignment using an inplace method.\n",
      "The behavior will change in pandas 3.0. This inplace method will never work because the intermediate object on which we are setting values always behaves as a copy.\n",
      "\n",
      "For example, when doing 'df[col].method(value, inplace=True)', try using 'df.method({col: value}, inplace=True)' or df[col] = df[col].method(value) instead, to perform the operation inplace on the original object.\n",
      "\n",
      "\n",
      "  for col in cat_cols: X[col].fillna(X[col].mode()[0], inplace=True)\n",
      "/root/anaconda3/envs/transtab/lib/python3.9/site-packages/transtab/dataset.py:204: FutureWarning: A value is trying to be set on a copy of a DataFrame or Series through chained assignment using an inplace method.\n",
      "The behavior will change in pandas 3.0. This inplace method will never work because the intermediate object on which we are setting values always behaves as a copy.\n",
      "\n",
      "For example, when doing 'df[col].method(value, inplace=True)', try using 'df.method({col: value}, inplace=True)' or df[col] = df[col].method(value) instead, to perform the operation inplace on the original object.\n",
      "\n",
      "\n",
      "  for col in bin_cols: X[col].fillna(X[col].mode()[0], inplace=True)\n",
      "/root/anaconda3/envs/transtab/lib/python3.9/site-packages/transtab/dataset.py:208: FutureWarning: DataFrame.applymap has been deprecated. Use DataFrame.map instead.\n",
      "  X[bin_cols] = X[bin_cols].astype(str).applymap(lambda x: 1 if x.lower() in ['yes','true','1','t'] else 0).values\n",
      "/root/anaconda3/envs/transtab/lib/python3.9/site-packages/huggingface_hub/file_download.py:1132: FutureWarning: `resume_download` is deprecated and will be removed in version 1.0.0. Downloads always resume when possible. If you want to force a new download, use `force_download=True`.\n",
      "  warnings.warn(\n",
      "/root/anaconda3/envs/transtab/lib/python3.9/site-packages/torch/nn/modules/transformer.py:306: UserWarning: enable_nested_tensor is True, but self.use_nested_tensor is False because encoder_layer was not TransformerEncoderLayer\n",
      "  warnings.warn(f\"enable_nested_tensor is True, but self.use_nested_tensor is False because {why_not_sparsity_fast_path}\")\n"
     ]
    }
   ],
   "source": [
    "# load multiple datasets by passing a list of data names\n",
    "allset, trainset, valset, testset, cat_cols, num_cols, bin_cols \\\n",
    "    = transtab.load_data(['credit-g','credit-approval'])\n",
    "\n",
    "# build transtab classifier model\n",
    "model = transtab.build_classifier(cat_cols, num_cols, bin_cols)\n",
    "\n",
    "\n",
    "# specify training arguments, take validation loss for early stopping\n",
    "training_arguments = {\n",
    "    'num_epoch':50,\n",
    "    'batch_size':128,\n",
    "    'lr':1e-4,\n",
    "    'eval_metric':'val_loss',\n",
    "    'eval_less_is_better':True,\n",
    "    'output_dir':'./checkpoint'\n",
    "    }"
   ]
  },
  {
   "cell_type": "code",
   "execution_count": null,
   "id": "f0c84e5f",
   "metadata": {},
   "outputs": [],
   "source": [
    "trainset[0][0]"
   ]
  },
  {
   "cell_type": "code",
   "execution_count": null,
   "id": "d2252859",
   "metadata": {},
   "outputs": [],
   "source": [
    "trainset[1][0]"
   ]
  },
  {
   "cell_type": "code",
   "execution_count": null,
   "id": "058f667e",
   "metadata": {},
   "outputs": [],
   "source": [
    "valset[1][0]"
   ]
  },
  {
   "cell_type": "code",
   "execution_count": 13,
   "id": "af2eed94",
   "metadata": {},
   "outputs": [
    {
     "name": "stderr",
     "output_type": "stream",
     "text": [
      "Epoch:   2%|▏         | 1/50 [00:02<02:06,  2.58s/it]"
     ]
    },
    {
     "name": "stdout",
     "output_type": "stream",
     "text": [
      "epoch: 0, test val_loss: 0.624814\n",
      "epoch: 0, train loss: 6.6128, lr: 0.000100, spent: 2.6 secs\n"
     ]
    },
    {
     "name": "stderr",
     "output_type": "stream",
     "text": [
      "Epoch:   4%|▍         | 2/50 [00:03<01:20,  1.68s/it]"
     ]
    },
    {
     "name": "stdout",
     "output_type": "stream",
     "text": [
      "epoch: 1, test val_loss: 0.599815\n",
      "epoch: 1, train loss: 6.3584, lr: 0.000100, spent: 3.6 secs\n"
     ]
    },
    {
     "name": "stderr",
     "output_type": "stream",
     "text": [
      "Epoch:   6%|▌         | 3/50 [00:04<01:08,  1.47s/it]"
     ]
    },
    {
     "name": "stdout",
     "output_type": "stream",
     "text": [
      "epoch: 2, test val_loss: 0.593626\n",
      "epoch: 2, train loss: 6.0999, lr: 0.000100, spent: 4.8 secs\n"
     ]
    },
    {
     "name": "stderr",
     "output_type": "stream",
     "text": [
      "Epoch:   8%|▊         | 4/50 [00:05<00:59,  1.30s/it]"
     ]
    },
    {
     "name": "stdout",
     "output_type": "stream",
     "text": [
      "epoch: 3, test val_loss: 0.550243\n",
      "epoch: 3, train loss: 5.8295, lr: 0.000100, spent: 5.9 secs\n"
     ]
    },
    {
     "name": "stderr",
     "output_type": "stream",
     "text": [
      "Epoch:  10%|█         | 5/50 [00:07<00:57,  1.29s/it]"
     ]
    },
    {
     "name": "stdout",
     "output_type": "stream",
     "text": [
      "epoch: 4, test val_loss: 0.527339\n",
      "epoch: 4, train loss: 5.6346, lr: 0.000100, spent: 7.1 secs\n"
     ]
    },
    {
     "name": "stderr",
     "output_type": "stream",
     "text": [
      "Epoch:  12%|█▏        | 6/50 [00:08<00:53,  1.21s/it]"
     ]
    },
    {
     "name": "stdout",
     "output_type": "stream",
     "text": [
      "epoch: 5, test val_loss: 0.508997\n",
      "epoch: 5, train loss: 5.5122, lr: 0.000100, spent: 8.2 secs\n"
     ]
    },
    {
     "name": "stderr",
     "output_type": "stream",
     "text": [
      "Epoch:  14%|█▍        | 7/50 [00:09<00:52,  1.22s/it]"
     ]
    },
    {
     "name": "stdout",
     "output_type": "stream",
     "text": [
      "epoch: 6, test val_loss: 0.485833\n",
      "epoch: 6, train loss: 5.4925, lr: 0.000100, spent: 9.4 secs\n"
     ]
    },
    {
     "name": "stderr",
     "output_type": "stream",
     "text": [
      "Epoch:  16%|█▌        | 8/50 [00:10<00:48,  1.17s/it]"
     ]
    },
    {
     "name": "stdout",
     "output_type": "stream",
     "text": [
      "epoch: 7, test val_loss: 0.522051\n",
      "EarlyStopping counter: 1 out of 5\n",
      "epoch: 7, train loss: 5.6539, lr: 0.000100, spent: 10.5 secs\n"
     ]
    },
    {
     "name": "stderr",
     "output_type": "stream",
     "text": [
      "Epoch:  18%|█▊        | 9/50 [00:11<00:48,  1.18s/it]"
     ]
    },
    {
     "name": "stdout",
     "output_type": "stream",
     "text": [
      "epoch: 8, test val_loss: 0.478457\n",
      "epoch: 8, train loss: 5.7431, lr: 0.000100, spent: 11.7 secs\n"
     ]
    },
    {
     "name": "stderr",
     "output_type": "stream",
     "text": [
      "Epoch:  20%|██        | 10/50 [00:12<00:44,  1.12s/it]"
     ]
    },
    {
     "name": "stdout",
     "output_type": "stream",
     "text": [
      "epoch: 9, test val_loss: 0.515105\n",
      "EarlyStopping counter: 1 out of 5\n",
      "epoch: 9, train loss: 5.4001, lr: 0.000100, spent: 12.7 secs\n"
     ]
    },
    {
     "name": "stderr",
     "output_type": "stream",
     "text": [
      "Epoch:  22%|██▏       | 11/50 [00:13<00:44,  1.15s/it]"
     ]
    },
    {
     "name": "stdout",
     "output_type": "stream",
     "text": [
      "epoch: 10, test val_loss: 0.473948\n",
      "epoch: 10, train loss: 5.3141, lr: 0.000100, spent: 13.9 secs\n"
     ]
    },
    {
     "name": "stderr",
     "output_type": "stream",
     "text": [
      "Epoch:  24%|██▍       | 12/50 [00:14<00:42,  1.13s/it]"
     ]
    },
    {
     "name": "stdout",
     "output_type": "stream",
     "text": [
      "epoch: 11, test val_loss: 0.473868\n",
      "epoch: 11, train loss: 5.2753, lr: 0.000100, spent: 15.0 secs\n"
     ]
    },
    {
     "name": "stderr",
     "output_type": "stream",
     "text": [
      "Epoch:  26%|██▌       | 13/50 [00:16<00:42,  1.15s/it]"
     ]
    },
    {
     "name": "stdout",
     "output_type": "stream",
     "text": [
      "epoch: 12, test val_loss: 0.470765\n",
      "epoch: 12, train loss: 5.1095, lr: 0.000100, spent: 16.2 secs\n"
     ]
    },
    {
     "name": "stderr",
     "output_type": "stream",
     "text": [
      "Epoch:  28%|██▊       | 14/50 [00:17<00:39,  1.09s/it]"
     ]
    },
    {
     "name": "stdout",
     "output_type": "stream",
     "text": [
      "epoch: 13, test val_loss: 0.478281\n",
      "EarlyStopping counter: 1 out of 5\n",
      "epoch: 13, train loss: 5.0843, lr: 0.000100, spent: 17.1 secs\n"
     ]
    },
    {
     "name": "stderr",
     "output_type": "stream",
     "text": [
      "Epoch:  30%|███       | 15/50 [00:18<00:39,  1.13s/it]"
     ]
    },
    {
     "name": "stdout",
     "output_type": "stream",
     "text": [
      "epoch: 14, test val_loss: 0.454411\n",
      "epoch: 14, train loss: 5.0996, lr: 0.000100, spent: 18.3 secs\n"
     ]
    },
    {
     "name": "stderr",
     "output_type": "stream",
     "text": [
      "Epoch:  32%|███▏      | 16/50 [00:19<00:36,  1.08s/it]"
     ]
    },
    {
     "name": "stdout",
     "output_type": "stream",
     "text": [
      "epoch: 15, test val_loss: 0.462418\n",
      "EarlyStopping counter: 1 out of 5\n",
      "epoch: 15, train loss: 5.0131, lr: 0.000100, spent: 19.3 secs\n"
     ]
    },
    {
     "name": "stderr",
     "output_type": "stream",
     "text": [
      "Epoch:  34%|███▍      | 17/50 [00:20<00:35,  1.06s/it]"
     ]
    },
    {
     "name": "stdout",
     "output_type": "stream",
     "text": [
      "epoch: 16, test val_loss: 0.453660\n",
      "epoch: 16, train loss: 4.9902, lr: 0.000100, spent: 20.3 secs\n"
     ]
    },
    {
     "name": "stderr",
     "output_type": "stream",
     "text": [
      "Epoch:  36%|███▌      | 18/50 [00:21<00:35,  1.11s/it]"
     ]
    },
    {
     "name": "stdout",
     "output_type": "stream",
     "text": [
      "epoch: 17, test val_loss: 0.459012\n",
      "EarlyStopping counter: 1 out of 5\n",
      "epoch: 17, train loss: 4.9308, lr: 0.000100, spent: 21.6 secs\n"
     ]
    },
    {
     "name": "stderr",
     "output_type": "stream",
     "text": [
      "Epoch:  38%|███▊      | 19/50 [00:22<00:33,  1.09s/it]"
     ]
    },
    {
     "name": "stdout",
     "output_type": "stream",
     "text": [
      "epoch: 18, test val_loss: 0.442427\n",
      "epoch: 18, train loss: 4.8728, lr: 0.000100, spent: 22.6 secs\n"
     ]
    },
    {
     "name": "stderr",
     "output_type": "stream",
     "text": [
      "Epoch:  40%|████      | 20/50 [00:23<00:33,  1.11s/it]"
     ]
    },
    {
     "name": "stdout",
     "output_type": "stream",
     "text": [
      "epoch: 19, test val_loss: 0.465714\n",
      "EarlyStopping counter: 1 out of 5\n",
      "epoch: 19, train loss: 4.8443, lr: 0.000100, spent: 23.8 secs\n"
     ]
    },
    {
     "name": "stderr",
     "output_type": "stream",
     "text": [
      "Epoch:  42%|████▏     | 21/50 [00:24<00:32,  1.12s/it]"
     ]
    },
    {
     "name": "stdout",
     "output_type": "stream",
     "text": [
      "epoch: 20, test val_loss: 0.436868\n",
      "epoch: 20, train loss: 4.7778, lr: 0.000100, spent: 24.9 secs\n"
     ]
    },
    {
     "name": "stderr",
     "output_type": "stream",
     "text": [
      "Epoch:  44%|████▍     | 22/50 [00:26<00:31,  1.13s/it]"
     ]
    },
    {
     "name": "stdout",
     "output_type": "stream",
     "text": [
      "epoch: 21, test val_loss: 0.471365\n",
      "EarlyStopping counter: 1 out of 5\n",
      "epoch: 21, train loss: 4.7832, lr: 0.000100, spent: 26.1 secs\n"
     ]
    },
    {
     "name": "stderr",
     "output_type": "stream",
     "text": [
      "Epoch:  46%|████▌     | 23/50 [00:26<00:28,  1.05s/it]"
     ]
    },
    {
     "name": "stdout",
     "output_type": "stream",
     "text": [
      "epoch: 22, test val_loss: 0.449551\n",
      "EarlyStopping counter: 2 out of 5\n",
      "epoch: 22, train loss: 4.9756, lr: 0.000100, spent: 26.9 secs\n"
     ]
    },
    {
     "name": "stderr",
     "output_type": "stream",
     "text": [
      "Epoch:  48%|████▊     | 24/50 [00:27<00:27,  1.06s/it]"
     ]
    },
    {
     "name": "stdout",
     "output_type": "stream",
     "text": [
      "epoch: 23, test val_loss: 0.427329\n",
      "epoch: 23, train loss: 4.8811, lr: 0.000100, spent: 28.0 secs\n"
     ]
    },
    {
     "name": "stderr",
     "output_type": "stream",
     "text": [
      "Epoch:  50%|█████     | 25/50 [00:28<00:25,  1.01s/it]"
     ]
    },
    {
     "name": "stdout",
     "output_type": "stream",
     "text": [
      "epoch: 24, test val_loss: 0.564131\n",
      "EarlyStopping counter: 1 out of 5\n",
      "epoch: 24, train loss: 4.9764, lr: 0.000100, spent: 28.9 secs\n"
     ]
    },
    {
     "name": "stderr",
     "output_type": "stream",
     "text": [
      "Epoch:  52%|█████▏    | 26/50 [00:29<00:24,  1.00s/it]"
     ]
    },
    {
     "name": "stdout",
     "output_type": "stream",
     "text": [
      "epoch: 25, test val_loss: 0.459227\n",
      "EarlyStopping counter: 2 out of 5\n",
      "epoch: 25, train loss: 4.9857, lr: 0.000100, spent: 29.9 secs\n"
     ]
    },
    {
     "name": "stderr",
     "output_type": "stream",
     "text": [
      "Epoch:  54%|█████▍    | 27/50 [00:30<00:22,  1.04it/s]"
     ]
    },
    {
     "name": "stdout",
     "output_type": "stream",
     "text": [
      "epoch: 26, test val_loss: 0.580818\n",
      "EarlyStopping counter: 3 out of 5\n",
      "epoch: 26, train loss: 5.0790, lr: 0.000100, spent: 30.7 secs\n"
     ]
    },
    {
     "name": "stderr",
     "output_type": "stream",
     "text": [
      "Epoch:  56%|█████▌    | 28/50 [00:31<00:21,  1.03it/s]"
     ]
    },
    {
     "name": "stdout",
     "output_type": "stream",
     "text": [
      "epoch: 27, test val_loss: 0.497497\n",
      "EarlyStopping counter: 4 out of 5\n",
      "epoch: 27, train loss: 5.3389, lr: 0.000100, spent: 31.7 secs\n"
     ]
    },
    {
     "name": "stderr",
     "output_type": "stream",
     "text": [
      "Epoch:  56%|█████▌    | 28/50 [00:32<00:25,  1.16s/it]\n",
      "\u001b[32m2024-07-02 22:00:03.669\u001b[0m | \u001b[1mINFO    \u001b[0m | \u001b[36mtranstab.trainer\u001b[0m:\u001b[36mtrain\u001b[0m:\u001b[36m136\u001b[0m - \u001b[1mload best at last from ./checkpoint\u001b[0m\n",
      "\u001b[32m2024-07-02 22:00:03.686\u001b[0m | \u001b[1mINFO    \u001b[0m | \u001b[36mtranstab.trainer\u001b[0m:\u001b[36msave_model\u001b[0m:\u001b[36m247\u001b[0m - \u001b[1msaving model checkpoint to ./checkpoint\u001b[0m\n",
      "\u001b[32m2024-07-02 22:00:03.843\u001b[0m | \u001b[1mINFO    \u001b[0m | \u001b[36mtranstab.trainer\u001b[0m:\u001b[36mtrain\u001b[0m:\u001b[36m141\u001b[0m - \u001b[1mtraining complete, cost 32.7 secs.\u001b[0m\n"
     ]
    },
    {
     "name": "stdout",
     "output_type": "stream",
     "text": [
      "epoch: 28, test val_loss: 0.454385\n",
      "EarlyStopping counter: 5 out of 5\n",
      "early stopped\n"
     ]
    }
   ],
   "source": [
    "# start training, take the validation loss on average for evaluation\n",
    "transtab.train(model, trainset, valset, **training_arguments)"
   ]
  },
  {
   "cell_type": "code",
   "execution_count": 23,
   "id": "9b65a489",
   "metadata": {},
   "outputs": [
    {
     "name": "stderr",
     "output_type": "stream",
     "text": [
      "\u001b[32m2024-07-02 22:15:12.883\u001b[0m | \u001b[1mINFO    \u001b[0m | \u001b[36mtranstab.modeling_transtab\u001b[0m:\u001b[36mload\u001b[0m:\u001b[36m774\u001b[0m - \u001b[1mmissing keys: []\u001b[0m\n",
      "\u001b[32m2024-07-02 22:15:12.884\u001b[0m | \u001b[1mINFO    \u001b[0m | \u001b[36mtranstab.modeling_transtab\u001b[0m:\u001b[36mload\u001b[0m:\u001b[36m775\u001b[0m - \u001b[1munexpected keys: []\u001b[0m\n",
      "\u001b[32m2024-07-02 22:15:12.885\u001b[0m | \u001b[1mINFO    \u001b[0m | \u001b[36mtranstab.modeling_transtab\u001b[0m:\u001b[36mload\u001b[0m:\u001b[36m776\u001b[0m - \u001b[1mload model from ./checkpoint\u001b[0m\n",
      "\u001b[32m2024-07-02 22:15:12.902\u001b[0m | \u001b[1mINFO    \u001b[0m | \u001b[36mtranstab.modeling_transtab\u001b[0m:\u001b[36mload\u001b[0m:\u001b[36m222\u001b[0m - \u001b[1mload feature extractor from ./checkpoint/extractor/extractor.json\u001b[0m\n"
     ]
    },
    {
     "data": {
      "text/plain": [
       "array([0.55132884, 0.9688542 , 0.74139047, 0.91438097, 0.72752327,\n",
       "       0.83235514, 0.8544672 , 0.7802751 , 0.5936112 , 0.77442586,\n",
       "       0.92550695, 0.72194535, 0.9299221 , 0.90414184, 0.91537386,\n",
       "       0.66817856, 0.32788673, 0.8953198 , 0.81215054, 0.9785589 ,\n",
       "       0.84631515, 0.8667564 , 0.9039925 , 0.9374983 , 0.7846502 ,\n",
       "       0.76346284, 0.7304617 , 0.9201926 , 0.9424838 , 0.562612  ,\n",
       "       0.96078557, 0.93702674, 0.9553118 , 0.8243254 , 0.81657714,\n",
       "       0.9706496 , 0.8457206 , 0.86033565, 0.9001383 , 0.8140395 ,\n",
       "       0.7706064 , 0.97081506, 0.64001304, 0.9553425 , 0.7530869 ,\n",
       "       0.39122963, 0.91449165, 0.73835313, 0.9403639 , 0.909312  ,\n",
       "       0.6456375 , 0.8569317 , 0.92745215, 0.87642866, 0.83203894,\n",
       "       0.952781  , 0.9056405 , 0.9602728 , 0.91901994, 0.82089055,\n",
       "       0.874648  , 0.9379722 , 0.9275334 , 0.9742843 , 0.86242783,\n",
       "       0.7749155 , 0.9263223 , 0.7867591 , 0.91992515, 0.84096676,\n",
       "       0.7019068 , 0.90363497, 0.97327733, 0.81342083, 0.9237029 ,\n",
       "       0.6953806 , 0.9388086 , 0.8897059 , 0.8170029 , 0.6255116 ,\n",
       "       0.90392494, 0.5438092 , 0.9576674 , 0.7649096 , 0.9772724 ,\n",
       "       0.9207408 , 0.7251252 , 0.94301397, 0.7908518 , 0.9398231 ,\n",
       "       0.849382  , 0.94769186, 0.92061317, 0.88604873, 0.69894814,\n",
       "       0.9593492 , 0.785892  , 0.94559515, 0.849925  , 0.91009533,\n",
       "       0.8173936 , 0.70399344, 0.5001372 , 0.93828297, 0.9525468 ,\n",
       "       0.9714765 , 0.7512862 , 0.50878596, 0.86698776, 0.9104131 ,\n",
       "       0.36432368, 0.46029314, 0.8242335 , 0.9672619 , 0.69806445,\n",
       "       0.93733436, 0.84622055, 0.7805411 , 0.670403  , 0.91134655,\n",
       "       0.72385716, 0.60972476, 0.61674345, 0.8773563 , 0.79724526,\n",
       "       0.7697605 , 0.98075897, 0.8950316 , 0.9717863 , 0.7591559 ,\n",
       "       0.5748794 , 0.93356013, 0.8078175 , 0.96006703, 0.8725503 ,\n",
       "       0.7761491 , 0.6109578 , 0.5853299 , 0.4663702 , 0.6805202 ,\n",
       "       0.83198357, 0.8501449 , 0.86188376, 0.8594845 , 0.6035065 ,\n",
       "       0.95264024, 0.4980934 , 0.49779043, 0.8501944 , 0.46704826,\n",
       "       0.66722536, 0.85504204, 0.9339537 , 0.6452355 , 0.9497175 ,\n",
       "       0.5514399 , 0.7898955 , 0.9172764 , 0.8982613 , 0.89917535,\n",
       "       0.9340598 , 0.720546  , 0.9115375 , 0.8559053 , 0.8435611 ,\n",
       "       0.9072098 , 0.8281734 , 0.76309496, 0.94875556, 0.45233473,\n",
       "       0.49180102, 0.8152035 , 0.9427583 , 0.6290443 , 0.47012872,\n",
       "       0.8684503 , 0.791415  , 0.93226653, 0.8998332 , 0.86879414,\n",
       "       0.7876285 , 0.9760181 , 0.5524674 , 0.5380592 , 0.8542026 ,\n",
       "       0.6400391 , 0.9437563 , 0.9454825 , 0.66618776, 0.91872704,\n",
       "       0.91338944, 0.8082772 , 0.92471576, 0.71620053, 0.9050282 ,\n",
       "       0.67908615, 0.8936646 , 0.8319828 , 0.5211322 , 0.6905036 ],\n",
       "      dtype=float32)"
      ]
     },
     "execution_count": 23,
     "metadata": {},
     "output_type": "execute_result"
    }
   ],
   "source": [
    "# make predictions on the first dataset 'credit-g'\n",
    "model.load('./checkpoint')\n",
    "x_test, y_test = testset[0]\n",
    "ypred = transtab.predict(model, x_test,y_test)\n",
    "ypred"
   ]
  },
  {
   "cell_type": "code",
   "execution_count": 24,
   "id": "6eefaa05",
   "metadata": {},
   "outputs": [
    {
     "data": {
      "text/plain": [
       "[0.7305952380952381]"
      ]
     },
     "execution_count": 24,
     "metadata": {},
     "output_type": "execute_result"
    }
   ],
   "source": [
    "# evaluate the predictions with bootstrapping estimate\n",
    "transtab.evaluate(ypred, y_test, seed=123, metric='auc')"
   ]
  },
  {
   "cell_type": "code",
   "execution_count": null,
   "id": "34d19852",
   "metadata": {},
   "outputs": [],
   "source": []
  }
 ],
 "metadata": {
  "kernelspec": {
   "display_name": "Python 3 (ipykernel)",
   "language": "python",
   "name": "python3"
  },
  "language_info": {
   "codemirror_mode": {
    "name": "ipython",
    "version": 3
   },
   "file_extension": ".py",
   "mimetype": "text/x-python",
   "name": "python",
   "nbconvert_exporter": "python",
   "pygments_lexer": "ipython3",
   "version": "3.9.19"
  }
 },
 "nbformat": 4,
 "nbformat_minor": 5
}
